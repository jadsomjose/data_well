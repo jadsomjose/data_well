{
  "nbformat": 4,
  "nbformat_minor": 0,
  "metadata": {
    "colab": {
      "name": "carregar_dado_poço.ipynb",
      "provenance": [],
      "collapsed_sections": [],
      "include_colab_link": true
    },
    "kernelspec": {
      "name": "python3",
      "display_name": "Python 3"
    },
    "language_info": {
      "name": "python"
    }
  },
  "cells": [
    {
      "cell_type": "markdown",
      "metadata": {
        "id": "view-in-github",
        "colab_type": "text"
      },
      "source": [
        "<a href=\"https://colab.research.google.com/github/jadsomjose/data_well/blob/main/carregar_dado_po%C3%A7o.ipynb\" target=\"_parent\"><img src=\"https://colab.research.google.com/assets/colab-badge.svg\" alt=\"Open In Colab\"/></a>"
      ]
    },
    {
      "cell_type": "code",
      "execution_count": null,
      "metadata": {
        "id": "NUP-ZMvR5vJq",
        "colab": {
          "base_uri": "https://localhost:8080/"
        },
        "outputId": "3e9dd3c4-6728-4c45-c107-d528b6e51432"
      },
      "outputs": [
        {
          "output_type": "stream",
          "name": "stdout",
          "text": [
            "Cloning into 'data_well'...\n",
            "remote: Enumerating objects: 48, done.\u001b[K\n",
            "remote: Counting objects: 100% (48/48), done.\u001b[K\n",
            "remote: Compressing objects: 100% (37/37), done.\u001b[K\n",
            "remote: Total 48 (delta 11), reused 48 (delta 11), pack-reused 0\u001b[K\n",
            "Unpacking objects: 100% (48/48), done.\n"
          ]
        }
      ],
      "source": [
        "!git clone https://github.com/jadsomjose/data_well.git\n"
      ]
    },
    {
      "cell_type": "code",
      "source": [
        "pip install lasio\n"
      ],
      "metadata": {
        "id": "go6stAlH58Cu",
        "colab": {
          "base_uri": "https://localhost:8080/"
        },
        "outputId": "02287021-0311-42f3-c992-62944b739bd8"
      },
      "execution_count": null,
      "outputs": [
        {
          "output_type": "stream",
          "name": "stdout",
          "text": [
            "Collecting lasio\n",
            "  Downloading lasio-0.29-py2.py3-none-any.whl (38 kB)\n",
            "Requirement already satisfied: numpy in /usr/local/lib/python3.7/dist-packages (from lasio) (1.21.6)\n",
            "Installing collected packages: lasio\n",
            "Successfully installed lasio-0.29\n"
          ]
        }
      ]
    },
    {
      "cell_type": "code",
      "source": [
        "import numpy as np\n",
        "import pandas as pd\n",
        "import matplotlib.pyplot as plt\n",
        "import seaborn as sns\n",
        "import lasio"
      ],
      "metadata": {
        "id": "vIYireyq5_Id"
      },
      "execution_count": null,
      "outputs": []
    },
    {
      "cell_type": "code",
      "source": [
        "# carregando dados\n",
        "#alaska1 = lasio.read('data_well/dados_alaska/dado1.las').df()\n",
        "#alaska2 = lasio.read('data_well/dados_alaska/dado2.las').df()\n",
        "#alaska3 = lasio.read('data_well/dados_alaska/dado3.las').df()\n",
        "#alaska4 = lasio.read('data_well/dados_alaska/dado4.las').df()\n",
        "#alaska5 = lasio.read('data_well/dados_alaska/dado5.las').df()\n",
        "#alaska6 = lasio.read('data_well/dados_alaska/dado6.las').df()\n",
        "#alaska7 = lasio.read('data_well/dados_alaska/dado7.las').df()\n",
        "#alaska8 = lasio.read('data_well/dados_alaska/dado8.las').df()\n",
        "#alaska9 = lasio.read('data_well/dados_alaska/dado9.las').df()\n",
        "norne1 = lasio.read('data_well/dado_norne/660810-B-4AH.las').df()\n",
        "norne2 = lasio.read('data_well/dado_norne/660810-C-1H.las').df()\n",
        "norne3 = lasio.read('data_well/dado_norne/660810-C-2H.las').df()\n",
        "norne4 = lasio.read('data_well/dado_norne/660810-C-3H.las').df()\n",
        "norne5 = lasio.read('data_well/dado_norne/660810-C-4AH.las').df()\n",
        "norne6 = lasio.read('data_well/dado_norne/660810-D-4H.las').df()\n",
        "norne7 = lasio.read('data_well/dado_norne/660810-E-3H.las').df()"
      ],
      "metadata": {
        "id": "6JlKkGtY5_qv"
      },
      "execution_count": null,
      "outputs": []
    },
    {
      "cell_type": "code",
      "source": [
        "norne1"
      ],
      "metadata": {
        "id": "OfoeUipw5lMq"
      },
      "execution_count": null,
      "outputs": []
    },
    {
      "cell_type": "code",
      "source": [
        "norne1 = norne1.dropna(subset=['DT', 'NPHI', 'VSH', 'DTS','RHOB'])\n",
        "norne2 = norne2.dropna(subset=['DT', 'NPHI', 'VSH', 'DTS','RHOB'])\n",
        "#norne3 = norne3.dropna(subset=['DT', 'NPHI', 'VSH', 'DTS','RHOB'])\n",
        "norne4 = norne4.dropna(subset=['DT', 'NPHI', 'VSH', 'DTS','RHOB'])\n",
        "norne5 = norne5.dropna(subset=['DT', 'NPHI', 'VSH', 'DTS','RHOB'])\n",
        "norne6 = norne6.dropna(subset=['DT', 'NPHI', 'VSH', 'DTS','RHOB'])\n",
        "norne7 = norne7.dropna(subset=['DT', 'NPHI', 'VSH', 'DTS','RHOB'])"
      ],
      "metadata": {
        "id": "Hzxdy9xZ9X4f"
      },
      "execution_count": null,
      "outputs": []
    },
    {
      "cell_type": "code",
      "source": [
        "norne1"
      ],
      "metadata": {
        "id": "81c7hILQACTM",
        "colab": {
          "base_uri": "https://localhost:8080/",
          "height": 455
        },
        "outputId": "90b351db-f21e-4a97-9f98-45a7e031553d"
      },
      "execution_count": null,
      "outputs": [
        {
          "output_type": "execute_result",
          "data": {
            "text/plain": [
              "                TVD      TVDSS       DT       DTS       GR     KLOGH    NPHI  \\\n",
              "DEPTH                                                                          \n",
              "3196.000  2575.1772 -2544.1772  86.6725  172.2732  96.6444    1.7680  0.2576   \n",
              "3196.125  2575.2207 -2544.2207  90.5224  171.0457  93.0198    0.6011  0.2458   \n",
              "3196.250  2575.2642 -2544.2642  91.7761  170.0313  91.9090    0.6303  0.2417   \n",
              "3196.375  2575.3079 -2544.3079  93.3359  169.1582  91.9182    0.8857  0.2404   \n",
              "3196.500  2575.3513 -2544.3513  93.9531  168.7450  92.3022    1.2757  0.2399   \n",
              "...             ...        ...      ...       ...      ...       ...     ...   \n",
              "3882.375  2814.7883 -2783.7883  93.0182  167.9510  58.4511  422.6047  0.2140   \n",
              "3882.500  2814.8784 -2783.8784  92.4579  167.9510  69.3898  373.2987  0.2152   \n",
              "3882.625  2814.9683 -2783.9683  92.3088  167.9510  75.1288  404.5169  0.2169   \n",
              "3882.750  2815.0581 -2784.0581  92.3348  167.9510  78.2582  458.6281  0.2189   \n",
              "3882.875  2815.1479 -2784.1479  92.3479  167.9510  82.9901  532.7830  0.2205   \n",
              "\n",
              "            PHIF    RHOB      SW     VSH  \n",
              "DEPTH                                     \n",
              "3196.000  0.0771  2.5069  0.5073  0.4072  \n",
              "3196.125  0.0350  2.6117  0.9880  0.3669  \n",
              "3196.250  0.0369  2.6042  0.8607  0.3545  \n",
              "3196.375  0.0501  2.5733  0.7056  0.3546  \n",
              "3196.500  0.0643  2.5360  0.5439  0.3589  \n",
              "...          ...     ...     ...     ...  \n",
              "3882.375  0.2649  2.1890  0.6156  0.0010  \n",
              "3882.500  0.2621  2.1899  0.5570  0.0101  \n",
              "3882.625  0.2639  2.1847  0.5267  0.0113  \n",
              "3882.750  0.2667  2.1802  0.5336  0.0101  \n",
              "3882.875  0.2700  2.1764  0.5630  0.0064  \n",
              "\n",
              "[5429 rows x 11 columns]"
            ],
            "text/html": [
              "\n",
              "  <div id=\"df-2480edb1-abc4-423a-b1e4-ea56548bb3d5\">\n",
              "    <div class=\"colab-df-container\">\n",
              "      <div>\n",
              "<style scoped>\n",
              "    .dataframe tbody tr th:only-of-type {\n",
              "        vertical-align: middle;\n",
              "    }\n",
              "\n",
              "    .dataframe tbody tr th {\n",
              "        vertical-align: top;\n",
              "    }\n",
              "\n",
              "    .dataframe thead th {\n",
              "        text-align: right;\n",
              "    }\n",
              "</style>\n",
              "<table border=\"1\" class=\"dataframe\">\n",
              "  <thead>\n",
              "    <tr style=\"text-align: right;\">\n",
              "      <th></th>\n",
              "      <th>TVD</th>\n",
              "      <th>TVDSS</th>\n",
              "      <th>DT</th>\n",
              "      <th>DTS</th>\n",
              "      <th>GR</th>\n",
              "      <th>KLOGH</th>\n",
              "      <th>NPHI</th>\n",
              "      <th>PHIF</th>\n",
              "      <th>RHOB</th>\n",
              "      <th>SW</th>\n",
              "      <th>VSH</th>\n",
              "    </tr>\n",
              "    <tr>\n",
              "      <th>DEPTH</th>\n",
              "      <th></th>\n",
              "      <th></th>\n",
              "      <th></th>\n",
              "      <th></th>\n",
              "      <th></th>\n",
              "      <th></th>\n",
              "      <th></th>\n",
              "      <th></th>\n",
              "      <th></th>\n",
              "      <th></th>\n",
              "      <th></th>\n",
              "    </tr>\n",
              "  </thead>\n",
              "  <tbody>\n",
              "    <tr>\n",
              "      <th>3196.000</th>\n",
              "      <td>2575.1772</td>\n",
              "      <td>-2544.1772</td>\n",
              "      <td>86.6725</td>\n",
              "      <td>172.2732</td>\n",
              "      <td>96.6444</td>\n",
              "      <td>1.7680</td>\n",
              "      <td>0.2576</td>\n",
              "      <td>0.0771</td>\n",
              "      <td>2.5069</td>\n",
              "      <td>0.5073</td>\n",
              "      <td>0.4072</td>\n",
              "    </tr>\n",
              "    <tr>\n",
              "      <th>3196.125</th>\n",
              "      <td>2575.2207</td>\n",
              "      <td>-2544.2207</td>\n",
              "      <td>90.5224</td>\n",
              "      <td>171.0457</td>\n",
              "      <td>93.0198</td>\n",
              "      <td>0.6011</td>\n",
              "      <td>0.2458</td>\n",
              "      <td>0.0350</td>\n",
              "      <td>2.6117</td>\n",
              "      <td>0.9880</td>\n",
              "      <td>0.3669</td>\n",
              "    </tr>\n",
              "    <tr>\n",
              "      <th>3196.250</th>\n",
              "      <td>2575.2642</td>\n",
              "      <td>-2544.2642</td>\n",
              "      <td>91.7761</td>\n",
              "      <td>170.0313</td>\n",
              "      <td>91.9090</td>\n",
              "      <td>0.6303</td>\n",
              "      <td>0.2417</td>\n",
              "      <td>0.0369</td>\n",
              "      <td>2.6042</td>\n",
              "      <td>0.8607</td>\n",
              "      <td>0.3545</td>\n",
              "    </tr>\n",
              "    <tr>\n",
              "      <th>3196.375</th>\n",
              "      <td>2575.3079</td>\n",
              "      <td>-2544.3079</td>\n",
              "      <td>93.3359</td>\n",
              "      <td>169.1582</td>\n",
              "      <td>91.9182</td>\n",
              "      <td>0.8857</td>\n",
              "      <td>0.2404</td>\n",
              "      <td>0.0501</td>\n",
              "      <td>2.5733</td>\n",
              "      <td>0.7056</td>\n",
              "      <td>0.3546</td>\n",
              "    </tr>\n",
              "    <tr>\n",
              "      <th>3196.500</th>\n",
              "      <td>2575.3513</td>\n",
              "      <td>-2544.3513</td>\n",
              "      <td>93.9531</td>\n",
              "      <td>168.7450</td>\n",
              "      <td>92.3022</td>\n",
              "      <td>1.2757</td>\n",
              "      <td>0.2399</td>\n",
              "      <td>0.0643</td>\n",
              "      <td>2.5360</td>\n",
              "      <td>0.5439</td>\n",
              "      <td>0.3589</td>\n",
              "    </tr>\n",
              "    <tr>\n",
              "      <th>...</th>\n",
              "      <td>...</td>\n",
              "      <td>...</td>\n",
              "      <td>...</td>\n",
              "      <td>...</td>\n",
              "      <td>...</td>\n",
              "      <td>...</td>\n",
              "      <td>...</td>\n",
              "      <td>...</td>\n",
              "      <td>...</td>\n",
              "      <td>...</td>\n",
              "      <td>...</td>\n",
              "    </tr>\n",
              "    <tr>\n",
              "      <th>3882.375</th>\n",
              "      <td>2814.7883</td>\n",
              "      <td>-2783.7883</td>\n",
              "      <td>93.0182</td>\n",
              "      <td>167.9510</td>\n",
              "      <td>58.4511</td>\n",
              "      <td>422.6047</td>\n",
              "      <td>0.2140</td>\n",
              "      <td>0.2649</td>\n",
              "      <td>2.1890</td>\n",
              "      <td>0.6156</td>\n",
              "      <td>0.0010</td>\n",
              "    </tr>\n",
              "    <tr>\n",
              "      <th>3882.500</th>\n",
              "      <td>2814.8784</td>\n",
              "      <td>-2783.8784</td>\n",
              "      <td>92.4579</td>\n",
              "      <td>167.9510</td>\n",
              "      <td>69.3898</td>\n",
              "      <td>373.2987</td>\n",
              "      <td>0.2152</td>\n",
              "      <td>0.2621</td>\n",
              "      <td>2.1899</td>\n",
              "      <td>0.5570</td>\n",
              "      <td>0.0101</td>\n",
              "    </tr>\n",
              "    <tr>\n",
              "      <th>3882.625</th>\n",
              "      <td>2814.9683</td>\n",
              "      <td>-2783.9683</td>\n",
              "      <td>92.3088</td>\n",
              "      <td>167.9510</td>\n",
              "      <td>75.1288</td>\n",
              "      <td>404.5169</td>\n",
              "      <td>0.2169</td>\n",
              "      <td>0.2639</td>\n",
              "      <td>2.1847</td>\n",
              "      <td>0.5267</td>\n",
              "      <td>0.0113</td>\n",
              "    </tr>\n",
              "    <tr>\n",
              "      <th>3882.750</th>\n",
              "      <td>2815.0581</td>\n",
              "      <td>-2784.0581</td>\n",
              "      <td>92.3348</td>\n",
              "      <td>167.9510</td>\n",
              "      <td>78.2582</td>\n",
              "      <td>458.6281</td>\n",
              "      <td>0.2189</td>\n",
              "      <td>0.2667</td>\n",
              "      <td>2.1802</td>\n",
              "      <td>0.5336</td>\n",
              "      <td>0.0101</td>\n",
              "    </tr>\n",
              "    <tr>\n",
              "      <th>3882.875</th>\n",
              "      <td>2815.1479</td>\n",
              "      <td>-2784.1479</td>\n",
              "      <td>92.3479</td>\n",
              "      <td>167.9510</td>\n",
              "      <td>82.9901</td>\n",
              "      <td>532.7830</td>\n",
              "      <td>0.2205</td>\n",
              "      <td>0.2700</td>\n",
              "      <td>2.1764</td>\n",
              "      <td>0.5630</td>\n",
              "      <td>0.0064</td>\n",
              "    </tr>\n",
              "  </tbody>\n",
              "</table>\n",
              "<p>5429 rows × 11 columns</p>\n",
              "</div>\n",
              "      <button class=\"colab-df-convert\" onclick=\"convertToInteractive('df-2480edb1-abc4-423a-b1e4-ea56548bb3d5')\"\n",
              "              title=\"Convert this dataframe to an interactive table.\"\n",
              "              style=\"display:none;\">\n",
              "        \n",
              "  <svg xmlns=\"http://www.w3.org/2000/svg\" height=\"24px\"viewBox=\"0 0 24 24\"\n",
              "       width=\"24px\">\n",
              "    <path d=\"M0 0h24v24H0V0z\" fill=\"none\"/>\n",
              "    <path d=\"M18.56 5.44l.94 2.06.94-2.06 2.06-.94-2.06-.94-.94-2.06-.94 2.06-2.06.94zm-11 1L8.5 8.5l.94-2.06 2.06-.94-2.06-.94L8.5 2.5l-.94 2.06-2.06.94zm10 10l.94 2.06.94-2.06 2.06-.94-2.06-.94-.94-2.06-.94 2.06-2.06.94z\"/><path d=\"M17.41 7.96l-1.37-1.37c-.4-.4-.92-.59-1.43-.59-.52 0-1.04.2-1.43.59L10.3 9.45l-7.72 7.72c-.78.78-.78 2.05 0 2.83L4 21.41c.39.39.9.59 1.41.59.51 0 1.02-.2 1.41-.59l7.78-7.78 2.81-2.81c.8-.78.8-2.07 0-2.86zM5.41 20L4 18.59l7.72-7.72 1.47 1.35L5.41 20z\"/>\n",
              "  </svg>\n",
              "      </button>\n",
              "      \n",
              "  <style>\n",
              "    .colab-df-container {\n",
              "      display:flex;\n",
              "      flex-wrap:wrap;\n",
              "      gap: 12px;\n",
              "    }\n",
              "\n",
              "    .colab-df-convert {\n",
              "      background-color: #E8F0FE;\n",
              "      border: none;\n",
              "      border-radius: 50%;\n",
              "      cursor: pointer;\n",
              "      display: none;\n",
              "      fill: #1967D2;\n",
              "      height: 32px;\n",
              "      padding: 0 0 0 0;\n",
              "      width: 32px;\n",
              "    }\n",
              "\n",
              "    .colab-df-convert:hover {\n",
              "      background-color: #E2EBFA;\n",
              "      box-shadow: 0px 1px 2px rgba(60, 64, 67, 0.3), 0px 1px 3px 1px rgba(60, 64, 67, 0.15);\n",
              "      fill: #174EA6;\n",
              "    }\n",
              "\n",
              "    [theme=dark] .colab-df-convert {\n",
              "      background-color: #3B4455;\n",
              "      fill: #D2E3FC;\n",
              "    }\n",
              "\n",
              "    [theme=dark] .colab-df-convert:hover {\n",
              "      background-color: #434B5C;\n",
              "      box-shadow: 0px 1px 3px 1px rgba(0, 0, 0, 0.15);\n",
              "      filter: drop-shadow(0px 1px 2px rgba(0, 0, 0, 0.3));\n",
              "      fill: #FFFFFF;\n",
              "    }\n",
              "  </style>\n",
              "\n",
              "      <script>\n",
              "        const buttonEl =\n",
              "          document.querySelector('#df-2480edb1-abc4-423a-b1e4-ea56548bb3d5 button.colab-df-convert');\n",
              "        buttonEl.style.display =\n",
              "          google.colab.kernel.accessAllowed ? 'block' : 'none';\n",
              "\n",
              "        async function convertToInteractive(key) {\n",
              "          const element = document.querySelector('#df-2480edb1-abc4-423a-b1e4-ea56548bb3d5');\n",
              "          const dataTable =\n",
              "            await google.colab.kernel.invokeFunction('convertToInteractive',\n",
              "                                                     [key], {});\n",
              "          if (!dataTable) return;\n",
              "\n",
              "          const docLinkHtml = 'Like what you see? Visit the ' +\n",
              "            '<a target=\"_blank\" href=https://colab.research.google.com/notebooks/data_table.ipynb>data table notebook</a>'\n",
              "            + ' to learn more about interactive tables.';\n",
              "          element.innerHTML = '';\n",
              "          dataTable['output_type'] = 'display_data';\n",
              "          await google.colab.output.renderOutput(dataTable, element);\n",
              "          const docLink = document.createElement('div');\n",
              "          docLink.innerHTML = docLinkHtml;\n",
              "          element.appendChild(docLink);\n",
              "        }\n",
              "      </script>\n",
              "    </div>\n",
              "  </div>\n",
              "  "
            ]
          },
          "metadata": {},
          "execution_count": 7
        }
      ]
    },
    {
      "cell_type": "code",
      "source": [
        "VSH = norne1.loc[:, ['VSH']]\n",
        "NPHI = norne1.loc[:, ['NPHI']]\n",
        "RHOB = norne1.loc[:, ['RHOB']]\n",
        "DTS = norne1.loc[:, ['DTS']]\n",
        "DT = norne1.loc[:, ['DT']]"
      ],
      "metadata": {
        "id": "2RTmD6ON9e7S"
      },
      "execution_count": null,
      "outputs": []
    },
    {
      "cell_type": "markdown",
      "source": [
        "Calculando VP e VS\n",
        "\n",
        "$V_P=10^3 \\frac{0.3048}{\\Delta t_P}$ --> km/s\n"
      ],
      "metadata": {
        "id": "kBGyplftGZqs"
      }
    },
    {
      "cell_type": "code",
      "source": [
        "norne1['VP'] = (0.3048/norne1['DT'])*10**3 #VP\n",
        "norne1['VS'] = (0.3048/norne1['DTS'])*10**3 #VP\n",
        "vp1=norne1['VP']\n",
        "vs1=norne1['VS']"
      ],
      "metadata": {
        "id": "RzFFMN6dIDci"
      },
      "execution_count": null,
      "outputs": []
    },
    {
      "cell_type": "code",
      "source": [
        "vs1"
      ],
      "metadata": {
        "id": "U-qS1Wb4KXKp"
      },
      "execution_count": null,
      "outputs": []
    },
    {
      "cell_type": "code",
      "source": [
        "depth = norne1.index"
      ],
      "metadata": {
        "id": "Y1R5Xe59Aj_d"
      },
      "execution_count": null,
      "outputs": []
    },
    {
      "cell_type": "code",
      "source": [
        "f = plt.figure(figsize=(10,5))\n",
        "\n",
        "ax1 = f.add_subplot(151)\n",
        "ax1.plot(np.array(VSH),np.array(depth), label= 'VSH')\n",
        "plt.legend(loc= 'best')\n",
        "plt.grid()\n",
        "plt.gca().invert_yaxis()\n",
        "plt.ylabel('Depth[m]', size=15)\n",
        "plt.xlabel('VSH', size=15)\n",
        "plt.tick_params(axis='y', labelsize=10)\n",
        "plt.tick_params(axis='x', labelsize=10)\n",
        "\n",
        "ax2 = f.add_subplot(152)\n",
        "ax2.plot(np.array(NPHI),np.array(depth), label= 'NPHI')\n",
        "plt.legend(loc= 'best')\n",
        "plt.grid()\n",
        "plt.gca().invert_yaxis()\n",
        "plt.ylabel('Depth[m]', size=15)\n",
        "plt.xlabel('$\\phi$', size=15)\n",
        "plt.tick_params(axis='y', labelsize=10)\n",
        "plt.tick_params(axis='x', labelsize=10)\n",
        "\n",
        "ax3 = f.add_subplot(153)\n",
        "ax3.plot(np.array(RHOB),np.array(depth), label= 'RHOB')\n",
        "plt.legend(loc= 'best')\n",
        "plt.grid()\n",
        "plt.gca().invert_yaxis()\n",
        "plt.ylabel('Depth[m]', size=15)\n",
        "plt.xlabel('Rhob [g/cc]', size=15)\n",
        "plt.tick_params(axis='y', labelsize=10)\n",
        "plt.tick_params(axis='x', labelsize=10)\n",
        "\n",
        "ax4 = f.add_subplot(154)\n",
        "ax4.plot(np.array(DT),np.array(depth), label= 'DT_P')\n",
        "plt.legend(loc= 'best')\n",
        "plt.grid()\n",
        "plt.gca().invert_yaxis()\n",
        "plt.ylabel('Depth [m]', size=15)\n",
        "plt.xlabel('$DT_P$[$\\mu$s]', size=15)\n",
        "plt.tick_params(axis='y', labelsize=10)\n",
        "plt.tick_params(axis='x', labelsize=10)\n",
        "\n",
        "ax5 = f.add_subplot(155)\n",
        "ax5.plot(np.array(DTS),np.array(depth), label= 'DT_S')\n",
        "plt.legend(loc= 'best')\n",
        "plt.grid()\n",
        "plt.gca().invert_yaxis()\n",
        "plt.ylabel('Depth [m]', size=15)\n",
        "plt.xlabel('$DT_S$[$\\mu$s]', size=15)\n",
        "plt.tick_params(axis='y', labelsize=10)\n",
        "plt.tick_params(axis='x', labelsize=10)\n",
        "f.tight_layout()\n",
        "plt.show()"
      ],
      "metadata": {
        "id": "LdxwwMRcehwS",
        "colab": {
          "base_uri": "https://localhost:8080/",
          "height": 369
        },
        "outputId": "0d043c24-19a4-40ce-cc6a-4eba00f3837c"
      },
      "execution_count": null,
      "outputs": [
        {
          "output_type": "display_data",
          "data": {
            "text/plain": [
              "<Figure size 720x360 with 5 Axes>"
            ],
            "image/png": "[encoded data removed]"
          },
          "metadata": {
            "needs_background": "light"
          }
        }
      ]
    }
  ]
}